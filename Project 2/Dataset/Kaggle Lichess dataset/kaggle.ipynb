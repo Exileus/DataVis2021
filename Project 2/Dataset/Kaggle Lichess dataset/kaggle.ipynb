{
 "cells": [
  {
   "cell_type": "code",
   "execution_count": 4,
   "id": "opposite-there",
   "metadata": {},
   "outputs": [],
   "source": [
    "import dtale\n",
    "import pandas as pd\n",
    "import numpy as np\n",
    "import matplotlib.pyplot as plt\n",
    "import plotly.express as px\n"
   ]
  },
  {
   "cell_type": "code",
   "execution_count": 5,
   "id": "ecological-activation",
   "metadata": {},
   "outputs": [],
   "source": [
    "df = pd.read_csv(\"games.csv\")"
   ]
  },
  {
   "cell_type": "code",
   "execution_count": 7,
   "id": "traditional-black",
   "metadata": {},
   "outputs": [
    {
     "data": {
      "text/html": [
       "\n",
       "        <iframe\n",
       "            width=\"100%\"\n",
       "            height=\"475\"\n",
       "            src=\"http://WINDOWS-H5L14TJ:40000/dtale/iframe/1\"\n",
       "            frameborder=\"0\"\n",
       "            allowfullscreen\n",
       "        ></iframe>\n",
       "        "
      ],
      "text/plain": [
       "<IPython.lib.display.IFrame at 0x23070c83e50>"
      ]
     },
     "metadata": {},
     "output_type": "display_data"
    },
    {
     "data": {
      "text/plain": []
     },
     "execution_count": 7,
     "metadata": {},
     "output_type": "execute_result"
    }
   ],
   "source": [
    "dtale.show(df)"
   ]
  },
  {
   "cell_type": "code",
   "execution_count": 25,
   "id": "disciplinary-journalism",
   "metadata": {},
   "outputs": [],
   "source": [
    "# Filtering\n",
    "df1 = df[df[\"rated\"]==True].drop(columns=[\"rated\",\"white_id\",\"black_id\"])"
   ]
  },
  {
   "cell_type": "code",
   "execution_count": 29,
   "id": "static-public",
   "metadata": {},
   "outputs": [
    {
     "data": {
      "text/html": [
       "<div>\n",
       "<style scoped>\n",
       "    .dataframe tbody tr th:only-of-type {\n",
       "        vertical-align: middle;\n",
       "    }\n",
       "\n",
       "    .dataframe tbody tr th {\n",
       "        vertical-align: top;\n",
       "    }\n",
       "\n",
       "    .dataframe thead th {\n",
       "        text-align: right;\n",
       "    }\n",
       "</style>\n",
       "<table border=\"1\" class=\"dataframe\">\n",
       "  <thead>\n",
       "    <tr style=\"text-align: right;\">\n",
       "      <th></th>\n",
       "      <th>created_at</th>\n",
       "      <th>last_move_at</th>\n",
       "      <th>turns</th>\n",
       "      <th>white_rating</th>\n",
       "      <th>black_rating</th>\n",
       "      <th>opening_ply</th>\n",
       "    </tr>\n",
       "  </thead>\n",
       "  <tbody>\n",
       "    <tr>\n",
       "      <th>count</th>\n",
       "      <td>1.615500e+04</td>\n",
       "      <td>1.615500e+04</td>\n",
       "      <td>16155.000000</td>\n",
       "      <td>16155.000000</td>\n",
       "      <td>16155.000000</td>\n",
       "      <td>16155.000000</td>\n",
       "    </tr>\n",
       "    <tr>\n",
       "      <th>mean</th>\n",
       "      <td>1.483600e+12</td>\n",
       "      <td>1.483601e+12</td>\n",
       "      <td>61.962550</td>\n",
       "      <td>1597.102012</td>\n",
       "      <td>1593.503188</td>\n",
       "      <td>4.814361</td>\n",
       "    </tr>\n",
       "    <tr>\n",
       "      <th>std</th>\n",
       "      <td>2.857839e+10</td>\n",
       "      <td>2.857839e+10</td>\n",
       "      <td>33.732775</td>\n",
       "      <td>284.178397</td>\n",
       "      <td>289.627160</td>\n",
       "      <td>2.767543</td>\n",
       "    </tr>\n",
       "    <tr>\n",
       "      <th>min</th>\n",
       "      <td>1.376772e+12</td>\n",
       "      <td>1.376772e+12</td>\n",
       "      <td>1.000000</td>\n",
       "      <td>784.000000</td>\n",
       "      <td>789.000000</td>\n",
       "      <td>1.000000</td>\n",
       "    </tr>\n",
       "    <tr>\n",
       "      <th>25%</th>\n",
       "      <td>1.477393e+12</td>\n",
       "      <td>1.477394e+12</td>\n",
       "      <td>39.000000</td>\n",
       "      <td>1396.000000</td>\n",
       "      <td>1390.000000</td>\n",
       "      <td>3.000000</td>\n",
       "    </tr>\n",
       "    <tr>\n",
       "      <th>50%</th>\n",
       "      <td>1.496360e+12</td>\n",
       "      <td>1.496360e+12</td>\n",
       "      <td>57.000000</td>\n",
       "      <td>1577.000000</td>\n",
       "      <td>1573.000000</td>\n",
       "      <td>4.000000</td>\n",
       "    </tr>\n",
       "    <tr>\n",
       "      <th>75%</th>\n",
       "      <td>1.503260e+12</td>\n",
       "      <td>1.503260e+12</td>\n",
       "      <td>80.000000</td>\n",
       "      <td>1794.000000</td>\n",
       "      <td>1791.000000</td>\n",
       "      <td>6.000000</td>\n",
       "    </tr>\n",
       "    <tr>\n",
       "      <th>max</th>\n",
       "      <td>1.504493e+12</td>\n",
       "      <td>1.504494e+12</td>\n",
       "      <td>349.000000</td>\n",
       "      <td>2622.000000</td>\n",
       "      <td>2588.000000</td>\n",
       "      <td>28.000000</td>\n",
       "    </tr>\n",
       "  </tbody>\n",
       "</table>\n",
       "</div>"
      ],
      "text/plain": [
       "         created_at  last_move_at         turns  white_rating  black_rating  \\\n",
       "count  1.615500e+04  1.615500e+04  16155.000000  16155.000000  16155.000000   \n",
       "mean   1.483600e+12  1.483601e+12     61.962550   1597.102012   1593.503188   \n",
       "std    2.857839e+10  2.857839e+10     33.732775    284.178397    289.627160   \n",
       "min    1.376772e+12  1.376772e+12      1.000000    784.000000    789.000000   \n",
       "25%    1.477393e+12  1.477394e+12     39.000000   1396.000000   1390.000000   \n",
       "50%    1.496360e+12  1.496360e+12     57.000000   1577.000000   1573.000000   \n",
       "75%    1.503260e+12  1.503260e+12     80.000000   1794.000000   1791.000000   \n",
       "max    1.504493e+12  1.504494e+12    349.000000   2622.000000   2588.000000   \n",
       "\n",
       "        opening_ply  \n",
       "count  16155.000000  \n",
       "mean       4.814361  \n",
       "std        2.767543  \n",
       "min        1.000000  \n",
       "25%        3.000000  \n",
       "50%        4.000000  \n",
       "75%        6.000000  \n",
       "max       28.000000  "
      ]
     },
     "execution_count": 29,
     "metadata": {},
     "output_type": "execute_result"
    },
    {
     "name": "stdout",
     "output_type": "stream",
     "text": [
      "Executing shutdown due to inactivity...\n"
     ]
    },
    {
     "name": "stderr",
     "output_type": "stream",
     "text": [
      "2021-03-29 00:37:08,792 - INFO     - Executing shutdown due to inactivity...\n"
     ]
    },
    {
     "name": "stdout",
     "output_type": "stream",
     "text": [
      "Executing shutdown...\n"
     ]
    },
    {
     "name": "stderr",
     "output_type": "stream",
     "text": [
      "2021-03-29 00:37:12,853 - INFO     - Executing shutdown...\n"
     ]
    }
   ],
   "source": [
    "df1.describe()"
   ]
  },
  {
   "cell_type": "code",
   "execution_count": null,
   "id": "touched-handle",
   "metadata": {},
   "outputs": [],
   "source": []
  }
 ],
 "metadata": {
  "kernelspec": {
   "display_name": "Python 3",
   "language": "python",
   "name": "python3"
  },
  "language_info": {
   "codemirror_mode": {
    "name": "ipython",
    "version": 3
   },
   "file_extension": ".py",
   "mimetype": "text/x-python",
   "name": "python",
   "nbconvert_exporter": "python",
   "pygments_lexer": "ipython3",
   "version": "3.8.5"
  }
 },
 "nbformat": 4,
 "nbformat_minor": 5
}
